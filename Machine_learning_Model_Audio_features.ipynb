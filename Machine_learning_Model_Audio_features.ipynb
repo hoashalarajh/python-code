{
  "nbformat": 4,
  "nbformat_minor": 0,
  "metadata": {
    "colab": {
      "provenance": [],
      "authorship_tag": "ABX9TyO8trbtJoyaujc39Nyar5Ou",
      "include_colab_link": true
    },
    "kernelspec": {
      "name": "python3",
      "display_name": "Python 3"
    },
    "language_info": {
      "name": "python"
    },
    "gpuClass": "standard"
  },
  "cells": [
    {
      "cell_type": "markdown",
      "metadata": {
        "id": "view-in-github",
        "colab_type": "text"
      },
      "source": [
        "<a href=\"https://colab.research.google.com/github/hoashalarajh/python-code/blob/research-work/Machine_learning_Model_Audio_features.ipynb\" target=\"_parent\"><img src=\"https://colab.research.google.com/assets/colab-badge.svg\" alt=\"Open In Colab\"/></a>"
      ]
    },
    {
      "cell_type": "code",
      "source": [
        "import os\n",
        "import numpy as np\n",
        "import pandas as pd\n",
        "import joblib"
      ],
      "metadata": {
        "id": "BGp3HY-05kCJ"
      },
      "execution_count": 1,
      "outputs": []
    },
    {
      "cell_type": "code",
      "execution_count": 2,
      "metadata": {
        "colab": {
          "base_uri": "https://localhost:8080/"
        },
        "id": "VdwUnSdepdMI",
        "outputId": "ce2f2269-4f23-49f3-b463-7271025a962a"
      },
      "outputs": [
        {
          "output_type": "stream",
          "name": "stdout",
          "text": [
            "Mounted at /content/drive/\n"
          ]
        }
      ],
      "source": [
        "# Mount the google dirve\n",
        "from google.colab import drive\n",
        "drive.mount('/content/drive/')"
      ]
    },
    {
      "cell_type": "code",
      "source": [
        "data_path = '/content/drive/MyDrive/emotions5/audio_features/'\n",
        "dir_list = os.listdir(data_path)\n",
        "dir_list.sort()\n",
        "\n",
        "print (f\"The total number of files is {len(dir_list)}\")"
      ],
      "metadata": {
        "colab": {
          "base_uri": "https://localhost:8080/"
        },
        "id": "YAdxi9zB5GAk",
        "outputId": "f3d7794a-5137-4184-e791-e74df1786483"
      },
      "execution_count": 3,
      "outputs": [
        {
          "output_type": "stream",
          "name": "stdout",
          "text": [
            "The total number of files is 7\n"
          ]
        }
      ]
    },
    {
      "cell_type": "code",
      "source": [
        "feature_anger = pd.read_csv(\"/content/drive/MyDrive/emotions5/audio_features/My_fature_table_anger.csv\")\n",
        "feature_happy = pd.read_csv(\"/content/drive/MyDrive/emotions5/audio_features/My_fature_table_happy.csv\")\n",
        "feature_sad = pd.read_csv(\"/content/drive/MyDrive/emotions5/audio_features/My_fature_table_sad.csv\")\n",
        "feature_fear = pd.read_csv(\"/content/drive/MyDrive/emotions5/audio_features/My_fature_table_fear.csv\")\n",
        "feature_neutral = pd.read_csv(\"/content/drive/MyDrive/emotions5/audio_features/My_fature_table_neutral.csv\")\n",
        "feature_surprise = pd.read_csv(\"/content/drive/MyDrive/emotions5/audio_features/My_fature_table_surprise.csv\")"
      ],
      "metadata": {
        "id": "ujkI3adL5rjr"
      },
      "execution_count": 4,
      "outputs": []
    },
    {
      "cell_type": "code",
      "source": [
        "# getting a final feature table\n",
        "final_feature_table = pd.concat([feature_anger, feature_happy, feature_sad, feature_fear, feature_neutral,  feature_surprise], axis = 0)"
      ],
      "metadata": {
        "id": "5xmxHFH06mu5"
      },
      "execution_count": 5,
      "outputs": []
    },
    {
      "cell_type": "code",
      "source": [
        "final_feature_table"
      ],
      "metadata": {
        "colab": {
          "base_uri": "https://localhost:8080/",
          "height": 488
        },
        "id": "Dxfyy4C180yR",
        "outputId": "826fa92c-3bd0-41df-e519-94e0115779a1"
      },
      "execution_count": 6,
      "outputs": [
        {
          "output_type": "execute_result",
          "data": {
            "text/plain": [
              "      amplitude_envelope  rms_energy  zero_cross_rate  fundamental_frequency  \\\n",
              "0               0.043497    0.015402         0.007639               1.000000   \n",
              "1               0.043497    0.023387         0.015278               0.120707   \n",
              "2               0.045977    0.023459         0.015278               0.110505   \n",
              "3               0.046101    0.024409         0.013889               0.102462   \n",
              "4               0.051560    0.026481         0.013194               0.097542   \n",
              "...                  ...         ...              ...                    ...   \n",
              "3054            0.007557    0.003186         0.019444               0.322758   \n",
              "3055            0.006247    0.002964         0.016667               0.000000   \n",
              "3056            0.006247    0.002557         0.014583               0.637425   \n",
              "3057            0.004824    0.002589         0.015972               0.025371   \n",
              "3058            0.004824    0.001522         0.010417               0.135018   \n",
              "\n",
              "           mfcc1       mfcc2      mfcc3      mfcc4      mfcc5      mfcc6  \\\n",
              "0    -353.764148  131.447815  14.655576  10.321879  -3.744143  -4.836601   \n",
              "1    -520.638162  199.516437  72.560349   8.399506  -6.217370 -14.744633   \n",
              "2    -525.374340  195.482221  74.302345  15.595439   1.398084 -11.099732   \n",
              "3    -513.579518  195.363280  57.981034   9.373746   2.975286 -12.444443   \n",
              "4    -529.731437  189.652261  69.802210  14.894182   4.771079  -8.126547   \n",
              "...          ...         ...        ...        ...        ...        ...   \n",
              "3054 -655.410894  219.937584  37.768071  18.406126  18.441197  -0.693436   \n",
              "3055 -656.164248  227.459244  56.133542  35.805214  22.864617  -9.548813   \n",
              "3056 -669.471323  212.194431  41.362970  22.808785  21.131153  -6.096786   \n",
              "3057 -657.614634  219.997409  46.935874  26.294371  15.474997  -9.865560   \n",
              "3058 -586.387705  149.461203  25.689421  20.135208   5.040699  -2.080876   \n",
              "\n",
              "          mfcc7      mfcc8      mfcc9     mfcc10     mfcc11     mfcc12  \\\n",
              "0     -7.355489  -8.425206 -10.102865 -10.102865 -11.221965 -11.302649   \n",
              "1    -19.865366 -17.135029  -4.784117  -4.784117   2.311311 -25.341551   \n",
              "2    -16.846632 -15.785113 -11.290961 -11.290961  -4.435201 -28.881445   \n",
              "3    -16.786398 -16.534673 -19.468551 -19.468551  -1.484420 -19.184001   \n",
              "4    -14.762924 -10.589214  -4.779645  -4.779645   4.846714 -17.199580   \n",
              "...         ...        ...        ...        ...        ...        ...   \n",
              "3054  -4.178920 -12.802914 -16.903093 -16.903093  17.701008   6.072839   \n",
              "3055 -11.821807 -14.035963  -9.808071  -9.808071  19.480129  -1.497533   \n",
              "3056  -6.442893  -0.944405   3.003819   3.003819  17.768055   2.485444   \n",
              "3057 -15.766614  -8.838410   0.839154   0.839154  17.196560   2.687289   \n",
              "3058 -11.565495 -11.526175  -4.291839  -4.291839   2.398418   0.720351   \n",
              "\n",
              "         mfcc13  mean_amp_env  std_amp_env   emotion  \n",
              "0    -11.365566      0.001024     0.023365     anger  \n",
              "1    -40.501739     -0.000326     0.023457     anger  \n",
              "2    -37.822760     -0.000882     0.024393     anger  \n",
              "3    -32.636308      0.001156     0.026456     anger  \n",
              "4    -31.237920      0.000718     0.027971     anger  \n",
              "...         ...           ...          ...       ...  \n",
              "3054  -6.824135      0.000123     0.002961  surprise  \n",
              "3055 -11.790993      0.000092     0.002555  surprise  \n",
              "3056 -10.681824     -0.000112     0.002586  surprise  \n",
              "3057 -13.136318     -0.000024     0.002152  surprise  \n",
              "3058  -3.907843     -0.000024     0.002152  surprise  \n",
              "\n",
              "[44540 rows x 20 columns]"
            ],
            "text/html": [
              "\n",
              "  <div id=\"df-86d08d5d-c003-4866-9c0b-6a5cf2f0a7ab\">\n",
              "    <div class=\"colab-df-container\">\n",
              "      <div>\n",
              "<style scoped>\n",
              "    .dataframe tbody tr th:only-of-type {\n",
              "        vertical-align: middle;\n",
              "    }\n",
              "\n",
              "    .dataframe tbody tr th {\n",
              "        vertical-align: top;\n",
              "    }\n",
              "\n",
              "    .dataframe thead th {\n",
              "        text-align: right;\n",
              "    }\n",
              "</style>\n",
              "<table border=\"1\" class=\"dataframe\">\n",
              "  <thead>\n",
              "    <tr style=\"text-align: right;\">\n",
              "      <th></th>\n",
              "      <th>amplitude_envelope</th>\n",
              "      <th>rms_energy</th>\n",
              "      <th>zero_cross_rate</th>\n",
              "      <th>fundamental_frequency</th>\n",
              "      <th>mfcc1</th>\n",
              "      <th>mfcc2</th>\n",
              "      <th>mfcc3</th>\n",
              "      <th>mfcc4</th>\n",
              "      <th>mfcc5</th>\n",
              "      <th>mfcc6</th>\n",
              "      <th>mfcc7</th>\n",
              "      <th>mfcc8</th>\n",
              "      <th>mfcc9</th>\n",
              "      <th>mfcc10</th>\n",
              "      <th>mfcc11</th>\n",
              "      <th>mfcc12</th>\n",
              "      <th>mfcc13</th>\n",
              "      <th>mean_amp_env</th>\n",
              "      <th>std_amp_env</th>\n",
              "      <th>emotion</th>\n",
              "    </tr>\n",
              "  </thead>\n",
              "  <tbody>\n",
              "    <tr>\n",
              "      <th>0</th>\n",
              "      <td>0.043497</td>\n",
              "      <td>0.015402</td>\n",
              "      <td>0.007639</td>\n",
              "      <td>1.000000</td>\n",
              "      <td>-353.764148</td>\n",
              "      <td>131.447815</td>\n",
              "      <td>14.655576</td>\n",
              "      <td>10.321879</td>\n",
              "      <td>-3.744143</td>\n",
              "      <td>-4.836601</td>\n",
              "      <td>-7.355489</td>\n",
              "      <td>-8.425206</td>\n",
              "      <td>-10.102865</td>\n",
              "      <td>-10.102865</td>\n",
              "      <td>-11.221965</td>\n",
              "      <td>-11.302649</td>\n",
              "      <td>-11.365566</td>\n",
              "      <td>0.001024</td>\n",
              "      <td>0.023365</td>\n",
              "      <td>anger</td>\n",
              "    </tr>\n",
              "    <tr>\n",
              "      <th>1</th>\n",
              "      <td>0.043497</td>\n",
              "      <td>0.023387</td>\n",
              "      <td>0.015278</td>\n",
              "      <td>0.120707</td>\n",
              "      <td>-520.638162</td>\n",
              "      <td>199.516437</td>\n",
              "      <td>72.560349</td>\n",
              "      <td>8.399506</td>\n",
              "      <td>-6.217370</td>\n",
              "      <td>-14.744633</td>\n",
              "      <td>-19.865366</td>\n",
              "      <td>-17.135029</td>\n",
              "      <td>-4.784117</td>\n",
              "      <td>-4.784117</td>\n",
              "      <td>2.311311</td>\n",
              "      <td>-25.341551</td>\n",
              "      <td>-40.501739</td>\n",
              "      <td>-0.000326</td>\n",
              "      <td>0.023457</td>\n",
              "      <td>anger</td>\n",
              "    </tr>\n",
              "    <tr>\n",
              "      <th>2</th>\n",
              "      <td>0.045977</td>\n",
              "      <td>0.023459</td>\n",
              "      <td>0.015278</td>\n",
              "      <td>0.110505</td>\n",
              "      <td>-525.374340</td>\n",
              "      <td>195.482221</td>\n",
              "      <td>74.302345</td>\n",
              "      <td>15.595439</td>\n",
              "      <td>1.398084</td>\n",
              "      <td>-11.099732</td>\n",
              "      <td>-16.846632</td>\n",
              "      <td>-15.785113</td>\n",
              "      <td>-11.290961</td>\n",
              "      <td>-11.290961</td>\n",
              "      <td>-4.435201</td>\n",
              "      <td>-28.881445</td>\n",
              "      <td>-37.822760</td>\n",
              "      <td>-0.000882</td>\n",
              "      <td>0.024393</td>\n",
              "      <td>anger</td>\n",
              "    </tr>\n",
              "    <tr>\n",
              "      <th>3</th>\n",
              "      <td>0.046101</td>\n",
              "      <td>0.024409</td>\n",
              "      <td>0.013889</td>\n",
              "      <td>0.102462</td>\n",
              "      <td>-513.579518</td>\n",
              "      <td>195.363280</td>\n",
              "      <td>57.981034</td>\n",
              "      <td>9.373746</td>\n",
              "      <td>2.975286</td>\n",
              "      <td>-12.444443</td>\n",
              "      <td>-16.786398</td>\n",
              "      <td>-16.534673</td>\n",
              "      <td>-19.468551</td>\n",
              "      <td>-19.468551</td>\n",
              "      <td>-1.484420</td>\n",
              "      <td>-19.184001</td>\n",
              "      <td>-32.636308</td>\n",
              "      <td>0.001156</td>\n",
              "      <td>0.026456</td>\n",
              "      <td>anger</td>\n",
              "    </tr>\n",
              "    <tr>\n",
              "      <th>4</th>\n",
              "      <td>0.051560</td>\n",
              "      <td>0.026481</td>\n",
              "      <td>0.013194</td>\n",
              "      <td>0.097542</td>\n",
              "      <td>-529.731437</td>\n",
              "      <td>189.652261</td>\n",
              "      <td>69.802210</td>\n",
              "      <td>14.894182</td>\n",
              "      <td>4.771079</td>\n",
              "      <td>-8.126547</td>\n",
              "      <td>-14.762924</td>\n",
              "      <td>-10.589214</td>\n",
              "      <td>-4.779645</td>\n",
              "      <td>-4.779645</td>\n",
              "      <td>4.846714</td>\n",
              "      <td>-17.199580</td>\n",
              "      <td>-31.237920</td>\n",
              "      <td>0.000718</td>\n",
              "      <td>0.027971</td>\n",
              "      <td>anger</td>\n",
              "    </tr>\n",
              "    <tr>\n",
              "      <th>...</th>\n",
              "      <td>...</td>\n",
              "      <td>...</td>\n",
              "      <td>...</td>\n",
              "      <td>...</td>\n",
              "      <td>...</td>\n",
              "      <td>...</td>\n",
              "      <td>...</td>\n",
              "      <td>...</td>\n",
              "      <td>...</td>\n",
              "      <td>...</td>\n",
              "      <td>...</td>\n",
              "      <td>...</td>\n",
              "      <td>...</td>\n",
              "      <td>...</td>\n",
              "      <td>...</td>\n",
              "      <td>...</td>\n",
              "      <td>...</td>\n",
              "      <td>...</td>\n",
              "      <td>...</td>\n",
              "      <td>...</td>\n",
              "    </tr>\n",
              "    <tr>\n",
              "      <th>3054</th>\n",
              "      <td>0.007557</td>\n",
              "      <td>0.003186</td>\n",
              "      <td>0.019444</td>\n",
              "      <td>0.322758</td>\n",
              "      <td>-655.410894</td>\n",
              "      <td>219.937584</td>\n",
              "      <td>37.768071</td>\n",
              "      <td>18.406126</td>\n",
              "      <td>18.441197</td>\n",
              "      <td>-0.693436</td>\n",
              "      <td>-4.178920</td>\n",
              "      <td>-12.802914</td>\n",
              "      <td>-16.903093</td>\n",
              "      <td>-16.903093</td>\n",
              "      <td>17.701008</td>\n",
              "      <td>6.072839</td>\n",
              "      <td>-6.824135</td>\n",
              "      <td>0.000123</td>\n",
              "      <td>0.002961</td>\n",
              "      <td>surprise</td>\n",
              "    </tr>\n",
              "    <tr>\n",
              "      <th>3055</th>\n",
              "      <td>0.006247</td>\n",
              "      <td>0.002964</td>\n",
              "      <td>0.016667</td>\n",
              "      <td>0.000000</td>\n",
              "      <td>-656.164248</td>\n",
              "      <td>227.459244</td>\n",
              "      <td>56.133542</td>\n",
              "      <td>35.805214</td>\n",
              "      <td>22.864617</td>\n",
              "      <td>-9.548813</td>\n",
              "      <td>-11.821807</td>\n",
              "      <td>-14.035963</td>\n",
              "      <td>-9.808071</td>\n",
              "      <td>-9.808071</td>\n",
              "      <td>19.480129</td>\n",
              "      <td>-1.497533</td>\n",
              "      <td>-11.790993</td>\n",
              "      <td>0.000092</td>\n",
              "      <td>0.002555</td>\n",
              "      <td>surprise</td>\n",
              "    </tr>\n",
              "    <tr>\n",
              "      <th>3056</th>\n",
              "      <td>0.006247</td>\n",
              "      <td>0.002557</td>\n",
              "      <td>0.014583</td>\n",
              "      <td>0.637425</td>\n",
              "      <td>-669.471323</td>\n",
              "      <td>212.194431</td>\n",
              "      <td>41.362970</td>\n",
              "      <td>22.808785</td>\n",
              "      <td>21.131153</td>\n",
              "      <td>-6.096786</td>\n",
              "      <td>-6.442893</td>\n",
              "      <td>-0.944405</td>\n",
              "      <td>3.003819</td>\n",
              "      <td>3.003819</td>\n",
              "      <td>17.768055</td>\n",
              "      <td>2.485444</td>\n",
              "      <td>-10.681824</td>\n",
              "      <td>-0.000112</td>\n",
              "      <td>0.002586</td>\n",
              "      <td>surprise</td>\n",
              "    </tr>\n",
              "    <tr>\n",
              "      <th>3057</th>\n",
              "      <td>0.004824</td>\n",
              "      <td>0.002589</td>\n",
              "      <td>0.015972</td>\n",
              "      <td>0.025371</td>\n",
              "      <td>-657.614634</td>\n",
              "      <td>219.997409</td>\n",
              "      <td>46.935874</td>\n",
              "      <td>26.294371</td>\n",
              "      <td>15.474997</td>\n",
              "      <td>-9.865560</td>\n",
              "      <td>-15.766614</td>\n",
              "      <td>-8.838410</td>\n",
              "      <td>0.839154</td>\n",
              "      <td>0.839154</td>\n",
              "      <td>17.196560</td>\n",
              "      <td>2.687289</td>\n",
              "      <td>-13.136318</td>\n",
              "      <td>-0.000024</td>\n",
              "      <td>0.002152</td>\n",
              "      <td>surprise</td>\n",
              "    </tr>\n",
              "    <tr>\n",
              "      <th>3058</th>\n",
              "      <td>0.004824</td>\n",
              "      <td>0.001522</td>\n",
              "      <td>0.010417</td>\n",
              "      <td>0.135018</td>\n",
              "      <td>-586.387705</td>\n",
              "      <td>149.461203</td>\n",
              "      <td>25.689421</td>\n",
              "      <td>20.135208</td>\n",
              "      <td>5.040699</td>\n",
              "      <td>-2.080876</td>\n",
              "      <td>-11.565495</td>\n",
              "      <td>-11.526175</td>\n",
              "      <td>-4.291839</td>\n",
              "      <td>-4.291839</td>\n",
              "      <td>2.398418</td>\n",
              "      <td>0.720351</td>\n",
              "      <td>-3.907843</td>\n",
              "      <td>-0.000024</td>\n",
              "      <td>0.002152</td>\n",
              "      <td>surprise</td>\n",
              "    </tr>\n",
              "  </tbody>\n",
              "</table>\n",
              "<p>44540 rows × 20 columns</p>\n",
              "</div>\n",
              "      <button class=\"colab-df-convert\" onclick=\"convertToInteractive('df-86d08d5d-c003-4866-9c0b-6a5cf2f0a7ab')\"\n",
              "              title=\"Convert this dataframe to an interactive table.\"\n",
              "              style=\"display:none;\">\n",
              "        \n",
              "  <svg xmlns=\"http://www.w3.org/2000/svg\" height=\"24px\"viewBox=\"0 0 24 24\"\n",
              "       width=\"24px\">\n",
              "    <path d=\"M0 0h24v24H0V0z\" fill=\"none\"/>\n",
              "    <path d=\"M18.56 5.44l.94 2.06.94-2.06 2.06-.94-2.06-.94-.94-2.06-.94 2.06-2.06.94zm-11 1L8.5 8.5l.94-2.06 2.06-.94-2.06-.94L8.5 2.5l-.94 2.06-2.06.94zm10 10l.94 2.06.94-2.06 2.06-.94-2.06-.94-.94-2.06-.94 2.06-2.06.94z\"/><path d=\"M17.41 7.96l-1.37-1.37c-.4-.4-.92-.59-1.43-.59-.52 0-1.04.2-1.43.59L10.3 9.45l-7.72 7.72c-.78.78-.78 2.05 0 2.83L4 21.41c.39.39.9.59 1.41.59.51 0 1.02-.2 1.41-.59l7.78-7.78 2.81-2.81c.8-.78.8-2.07 0-2.86zM5.41 20L4 18.59l7.72-7.72 1.47 1.35L5.41 20z\"/>\n",
              "  </svg>\n",
              "      </button>\n",
              "      \n",
              "  <style>\n",
              "    .colab-df-container {\n",
              "      display:flex;\n",
              "      flex-wrap:wrap;\n",
              "      gap: 12px;\n",
              "    }\n",
              "\n",
              "    .colab-df-convert {\n",
              "      background-color: #E8F0FE;\n",
              "      border: none;\n",
              "      border-radius: 50%;\n",
              "      cursor: pointer;\n",
              "      display: none;\n",
              "      fill: #1967D2;\n",
              "      height: 32px;\n",
              "      padding: 0 0 0 0;\n",
              "      width: 32px;\n",
              "    }\n",
              "\n",
              "    .colab-df-convert:hover {\n",
              "      background-color: #E2EBFA;\n",
              "      box-shadow: 0px 1px 2px rgba(60, 64, 67, 0.3), 0px 1px 3px 1px rgba(60, 64, 67, 0.15);\n",
              "      fill: #174EA6;\n",
              "    }\n",
              "\n",
              "    [theme=dark] .colab-df-convert {\n",
              "      background-color: #3B4455;\n",
              "      fill: #D2E3FC;\n",
              "    }\n",
              "\n",
              "    [theme=dark] .colab-df-convert:hover {\n",
              "      background-color: #434B5C;\n",
              "      box-shadow: 0px 1px 3px 1px rgba(0, 0, 0, 0.15);\n",
              "      filter: drop-shadow(0px 1px 2px rgba(0, 0, 0, 0.3));\n",
              "      fill: #FFFFFF;\n",
              "    }\n",
              "  </style>\n",
              "\n",
              "      <script>\n",
              "        const buttonEl =\n",
              "          document.querySelector('#df-86d08d5d-c003-4866-9c0b-6a5cf2f0a7ab button.colab-df-convert');\n",
              "        buttonEl.style.display =\n",
              "          google.colab.kernel.accessAllowed ? 'block' : 'none';\n",
              "\n",
              "        async function convertToInteractive(key) {\n",
              "          const element = document.querySelector('#df-86d08d5d-c003-4866-9c0b-6a5cf2f0a7ab');\n",
              "          const dataTable =\n",
              "            await google.colab.kernel.invokeFunction('convertToInteractive',\n",
              "                                                     [key], {});\n",
              "          if (!dataTable) return;\n",
              "\n",
              "          const docLinkHtml = 'Like what you see? Visit the ' +\n",
              "            '<a target=\"_blank\" href=https://colab.research.google.com/notebooks/data_table.ipynb>data table notebook</a>'\n",
              "            + ' to learn more about interactive tables.';\n",
              "          element.innerHTML = '';\n",
              "          dataTable['output_type'] = 'display_data';\n",
              "          await google.colab.output.renderOutput(dataTable, element);\n",
              "          const docLink = document.createElement('div');\n",
              "          docLink.innerHTML = docLinkHtml;\n",
              "          element.appendChild(docLink);\n",
              "        }\n",
              "      </script>\n",
              "    </div>\n",
              "  </div>\n",
              "  "
            ]
          },
          "metadata": {},
          "execution_count": 6
        }
      ]
    },
    {
      "cell_type": "code",
      "source": [
        "# visualizing feature table\n",
        "final_feature_table.head(10)"
      ],
      "metadata": {
        "colab": {
          "base_uri": "https://localhost:8080/",
          "height": 427
        },
        "id": "LzRmro4N7Ras",
        "outputId": "f3f04596-a994-41d3-c56a-202b3aaa6db5"
      },
      "execution_count": 7,
      "outputs": [
        {
          "output_type": "execute_result",
          "data": {
            "text/plain": [
              "   amplitude_envelope  rms_energy  zero_cross_rate  fundamental_frequency  \\\n",
              "0            0.043497    0.015402         0.007639               1.000000   \n",
              "1            0.043497    0.023387         0.015278               0.120707   \n",
              "2            0.045977    0.023459         0.015278               0.110505   \n",
              "3            0.046101    0.024409         0.013889               0.102462   \n",
              "4            0.051560    0.026481         0.013194               0.097542   \n",
              "5            0.086327    0.027980         0.013194               0.096483   \n",
              "6            0.115245    0.040061         0.013194               0.097964   \n",
              "7            0.115245    0.053320         0.017361               0.099192   \n",
              "8            0.114153    0.052470         0.025000               0.108286   \n",
              "9            0.045810    0.036726         0.029861               0.305478   \n",
              "\n",
              "        mfcc1       mfcc2      mfcc3      mfcc4      mfcc5      mfcc6  \\\n",
              "0 -353.764148  131.447815  14.655576  10.321879  -3.744143  -4.836601   \n",
              "1 -520.638162  199.516437  72.560349   8.399506  -6.217370 -14.744633   \n",
              "2 -525.374340  195.482221  74.302345  15.595439   1.398084 -11.099732   \n",
              "3 -513.579518  195.363280  57.981034   9.373746   2.975286 -12.444443   \n",
              "4 -529.731437  189.652261  69.802210  14.894182   4.771079  -8.126547   \n",
              "5 -522.442924  192.673977  69.839754  17.076934  -5.180311 -22.657686   \n",
              "6 -501.004745  194.700788  59.346026  25.703145  -1.388053 -15.361394   \n",
              "7 -451.394375  215.772990  46.443291  34.177325  -6.846221 -30.402650   \n",
              "8 -444.157022  211.535808  21.662337  14.938543 -16.244482 -49.736622   \n",
              "9 -487.539148  182.874612  15.516579  -5.556392 -24.978429 -42.859345   \n",
              "\n",
              "       mfcc7      mfcc8      mfcc9     mfcc10     mfcc11     mfcc12  \\\n",
              "0  -7.355489  -8.425206 -10.102865 -10.102865 -11.221965 -11.302649   \n",
              "1 -19.865366 -17.135029  -4.784117  -4.784117   2.311311 -25.341551   \n",
              "2 -16.846632 -15.785113 -11.290961 -11.290961  -4.435201 -28.881445   \n",
              "3 -16.786398 -16.534673 -19.468551 -19.468551  -1.484420 -19.184001   \n",
              "4 -14.762924 -10.589214  -4.779645  -4.779645   4.846714 -17.199580   \n",
              "5 -16.116055  -8.970467 -11.773399 -11.773399   1.059274 -16.645990   \n",
              "6  -3.150074  -3.094568  -6.913412  -6.913412 -11.283609 -17.072684   \n",
              "7  -6.955899 -10.136866 -13.082631 -13.082631  -7.502747  -1.748457   \n",
              "8 -27.079493 -19.511420 -15.474233 -15.474233 -13.278446   1.237485   \n",
              "9 -20.103427 -15.745433 -14.214136 -14.214136   0.390304   5.121299   \n",
              "\n",
              "      mfcc13  mean_amp_env  std_amp_env emotion  \n",
              "0 -11.365566      0.001024     0.023365   anger  \n",
              "1 -40.501739     -0.000326     0.023457   anger  \n",
              "2 -37.822760     -0.000882     0.024393   anger  \n",
              "3 -32.636308      0.001156     0.026456   anger  \n",
              "4 -31.237920      0.000718     0.027971   anger  \n",
              "5 -26.740677     -0.001634     0.040028   anger  \n",
              "6 -33.935046     -0.001267     0.053305   anger  \n",
              "7 -29.255516      0.001183     0.052457   anger  \n",
              "8  -1.542491      0.000925     0.036714   anger  \n",
              "9   7.816004     -0.000002     0.022824   anger  "
            ],
            "text/html": [
              "\n",
              "  <div id=\"df-cd9fb4c8-8d7f-46a2-af5f-56380b51c7af\">\n",
              "    <div class=\"colab-df-container\">\n",
              "      <div>\n",
              "<style scoped>\n",
              "    .dataframe tbody tr th:only-of-type {\n",
              "        vertical-align: middle;\n",
              "    }\n",
              "\n",
              "    .dataframe tbody tr th {\n",
              "        vertical-align: top;\n",
              "    }\n",
              "\n",
              "    .dataframe thead th {\n",
              "        text-align: right;\n",
              "    }\n",
              "</style>\n",
              "<table border=\"1\" class=\"dataframe\">\n",
              "  <thead>\n",
              "    <tr style=\"text-align: right;\">\n",
              "      <th></th>\n",
              "      <th>amplitude_envelope</th>\n",
              "      <th>rms_energy</th>\n",
              "      <th>zero_cross_rate</th>\n",
              "      <th>fundamental_frequency</th>\n",
              "      <th>mfcc1</th>\n",
              "      <th>mfcc2</th>\n",
              "      <th>mfcc3</th>\n",
              "      <th>mfcc4</th>\n",
              "      <th>mfcc5</th>\n",
              "      <th>mfcc6</th>\n",
              "      <th>mfcc7</th>\n",
              "      <th>mfcc8</th>\n",
              "      <th>mfcc9</th>\n",
              "      <th>mfcc10</th>\n",
              "      <th>mfcc11</th>\n",
              "      <th>mfcc12</th>\n",
              "      <th>mfcc13</th>\n",
              "      <th>mean_amp_env</th>\n",
              "      <th>std_amp_env</th>\n",
              "      <th>emotion</th>\n",
              "    </tr>\n",
              "  </thead>\n",
              "  <tbody>\n",
              "    <tr>\n",
              "      <th>0</th>\n",
              "      <td>0.043497</td>\n",
              "      <td>0.015402</td>\n",
              "      <td>0.007639</td>\n",
              "      <td>1.000000</td>\n",
              "      <td>-353.764148</td>\n",
              "      <td>131.447815</td>\n",
              "      <td>14.655576</td>\n",
              "      <td>10.321879</td>\n",
              "      <td>-3.744143</td>\n",
              "      <td>-4.836601</td>\n",
              "      <td>-7.355489</td>\n",
              "      <td>-8.425206</td>\n",
              "      <td>-10.102865</td>\n",
              "      <td>-10.102865</td>\n",
              "      <td>-11.221965</td>\n",
              "      <td>-11.302649</td>\n",
              "      <td>-11.365566</td>\n",
              "      <td>0.001024</td>\n",
              "      <td>0.023365</td>\n",
              "      <td>anger</td>\n",
              "    </tr>\n",
              "    <tr>\n",
              "      <th>1</th>\n",
              "      <td>0.043497</td>\n",
              "      <td>0.023387</td>\n",
              "      <td>0.015278</td>\n",
              "      <td>0.120707</td>\n",
              "      <td>-520.638162</td>\n",
              "      <td>199.516437</td>\n",
              "      <td>72.560349</td>\n",
              "      <td>8.399506</td>\n",
              "      <td>-6.217370</td>\n",
              "      <td>-14.744633</td>\n",
              "      <td>-19.865366</td>\n",
              "      <td>-17.135029</td>\n",
              "      <td>-4.784117</td>\n",
              "      <td>-4.784117</td>\n",
              "      <td>2.311311</td>\n",
              "      <td>-25.341551</td>\n",
              "      <td>-40.501739</td>\n",
              "      <td>-0.000326</td>\n",
              "      <td>0.023457</td>\n",
              "      <td>anger</td>\n",
              "    </tr>\n",
              "    <tr>\n",
              "      <th>2</th>\n",
              "      <td>0.045977</td>\n",
              "      <td>0.023459</td>\n",
              "      <td>0.015278</td>\n",
              "      <td>0.110505</td>\n",
              "      <td>-525.374340</td>\n",
              "      <td>195.482221</td>\n",
              "      <td>74.302345</td>\n",
              "      <td>15.595439</td>\n",
              "      <td>1.398084</td>\n",
              "      <td>-11.099732</td>\n",
              "      <td>-16.846632</td>\n",
              "      <td>-15.785113</td>\n",
              "      <td>-11.290961</td>\n",
              "      <td>-11.290961</td>\n",
              "      <td>-4.435201</td>\n",
              "      <td>-28.881445</td>\n",
              "      <td>-37.822760</td>\n",
              "      <td>-0.000882</td>\n",
              "      <td>0.024393</td>\n",
              "      <td>anger</td>\n",
              "    </tr>\n",
              "    <tr>\n",
              "      <th>3</th>\n",
              "      <td>0.046101</td>\n",
              "      <td>0.024409</td>\n",
              "      <td>0.013889</td>\n",
              "      <td>0.102462</td>\n",
              "      <td>-513.579518</td>\n",
              "      <td>195.363280</td>\n",
              "      <td>57.981034</td>\n",
              "      <td>9.373746</td>\n",
              "      <td>2.975286</td>\n",
              "      <td>-12.444443</td>\n",
              "      <td>-16.786398</td>\n",
              "      <td>-16.534673</td>\n",
              "      <td>-19.468551</td>\n",
              "      <td>-19.468551</td>\n",
              "      <td>-1.484420</td>\n",
              "      <td>-19.184001</td>\n",
              "      <td>-32.636308</td>\n",
              "      <td>0.001156</td>\n",
              "      <td>0.026456</td>\n",
              "      <td>anger</td>\n",
              "    </tr>\n",
              "    <tr>\n",
              "      <th>4</th>\n",
              "      <td>0.051560</td>\n",
              "      <td>0.026481</td>\n",
              "      <td>0.013194</td>\n",
              "      <td>0.097542</td>\n",
              "      <td>-529.731437</td>\n",
              "      <td>189.652261</td>\n",
              "      <td>69.802210</td>\n",
              "      <td>14.894182</td>\n",
              "      <td>4.771079</td>\n",
              "      <td>-8.126547</td>\n",
              "      <td>-14.762924</td>\n",
              "      <td>-10.589214</td>\n",
              "      <td>-4.779645</td>\n",
              "      <td>-4.779645</td>\n",
              "      <td>4.846714</td>\n",
              "      <td>-17.199580</td>\n",
              "      <td>-31.237920</td>\n",
              "      <td>0.000718</td>\n",
              "      <td>0.027971</td>\n",
              "      <td>anger</td>\n",
              "    </tr>\n",
              "    <tr>\n",
              "      <th>5</th>\n",
              "      <td>0.086327</td>\n",
              "      <td>0.027980</td>\n",
              "      <td>0.013194</td>\n",
              "      <td>0.096483</td>\n",
              "      <td>-522.442924</td>\n",
              "      <td>192.673977</td>\n",
              "      <td>69.839754</td>\n",
              "      <td>17.076934</td>\n",
              "      <td>-5.180311</td>\n",
              "      <td>-22.657686</td>\n",
              "      <td>-16.116055</td>\n",
              "      <td>-8.970467</td>\n",
              "      <td>-11.773399</td>\n",
              "      <td>-11.773399</td>\n",
              "      <td>1.059274</td>\n",
              "      <td>-16.645990</td>\n",
              "      <td>-26.740677</td>\n",
              "      <td>-0.001634</td>\n",
              "      <td>0.040028</td>\n",
              "      <td>anger</td>\n",
              "    </tr>\n",
              "    <tr>\n",
              "      <th>6</th>\n",
              "      <td>0.115245</td>\n",
              "      <td>0.040061</td>\n",
              "      <td>0.013194</td>\n",
              "      <td>0.097964</td>\n",
              "      <td>-501.004745</td>\n",
              "      <td>194.700788</td>\n",
              "      <td>59.346026</td>\n",
              "      <td>25.703145</td>\n",
              "      <td>-1.388053</td>\n",
              "      <td>-15.361394</td>\n",
              "      <td>-3.150074</td>\n",
              "      <td>-3.094568</td>\n",
              "      <td>-6.913412</td>\n",
              "      <td>-6.913412</td>\n",
              "      <td>-11.283609</td>\n",
              "      <td>-17.072684</td>\n",
              "      <td>-33.935046</td>\n",
              "      <td>-0.001267</td>\n",
              "      <td>0.053305</td>\n",
              "      <td>anger</td>\n",
              "    </tr>\n",
              "    <tr>\n",
              "      <th>7</th>\n",
              "      <td>0.115245</td>\n",
              "      <td>0.053320</td>\n",
              "      <td>0.017361</td>\n",
              "      <td>0.099192</td>\n",
              "      <td>-451.394375</td>\n",
              "      <td>215.772990</td>\n",
              "      <td>46.443291</td>\n",
              "      <td>34.177325</td>\n",
              "      <td>-6.846221</td>\n",
              "      <td>-30.402650</td>\n",
              "      <td>-6.955899</td>\n",
              "      <td>-10.136866</td>\n",
              "      <td>-13.082631</td>\n",
              "      <td>-13.082631</td>\n",
              "      <td>-7.502747</td>\n",
              "      <td>-1.748457</td>\n",
              "      <td>-29.255516</td>\n",
              "      <td>0.001183</td>\n",
              "      <td>0.052457</td>\n",
              "      <td>anger</td>\n",
              "    </tr>\n",
              "    <tr>\n",
              "      <th>8</th>\n",
              "      <td>0.114153</td>\n",
              "      <td>0.052470</td>\n",
              "      <td>0.025000</td>\n",
              "      <td>0.108286</td>\n",
              "      <td>-444.157022</td>\n",
              "      <td>211.535808</td>\n",
              "      <td>21.662337</td>\n",
              "      <td>14.938543</td>\n",
              "      <td>-16.244482</td>\n",
              "      <td>-49.736622</td>\n",
              "      <td>-27.079493</td>\n",
              "      <td>-19.511420</td>\n",
              "      <td>-15.474233</td>\n",
              "      <td>-15.474233</td>\n",
              "      <td>-13.278446</td>\n",
              "      <td>1.237485</td>\n",
              "      <td>-1.542491</td>\n",
              "      <td>0.000925</td>\n",
              "      <td>0.036714</td>\n",
              "      <td>anger</td>\n",
              "    </tr>\n",
              "    <tr>\n",
              "      <th>9</th>\n",
              "      <td>0.045810</td>\n",
              "      <td>0.036726</td>\n",
              "      <td>0.029861</td>\n",
              "      <td>0.305478</td>\n",
              "      <td>-487.539148</td>\n",
              "      <td>182.874612</td>\n",
              "      <td>15.516579</td>\n",
              "      <td>-5.556392</td>\n",
              "      <td>-24.978429</td>\n",
              "      <td>-42.859345</td>\n",
              "      <td>-20.103427</td>\n",
              "      <td>-15.745433</td>\n",
              "      <td>-14.214136</td>\n",
              "      <td>-14.214136</td>\n",
              "      <td>0.390304</td>\n",
              "      <td>5.121299</td>\n",
              "      <td>7.816004</td>\n",
              "      <td>-0.000002</td>\n",
              "      <td>0.022824</td>\n",
              "      <td>anger</td>\n",
              "    </tr>\n",
              "  </tbody>\n",
              "</table>\n",
              "</div>\n",
              "      <button class=\"colab-df-convert\" onclick=\"convertToInteractive('df-cd9fb4c8-8d7f-46a2-af5f-56380b51c7af')\"\n",
              "              title=\"Convert this dataframe to an interactive table.\"\n",
              "              style=\"display:none;\">\n",
              "        \n",
              "  <svg xmlns=\"http://www.w3.org/2000/svg\" height=\"24px\"viewBox=\"0 0 24 24\"\n",
              "       width=\"24px\">\n",
              "    <path d=\"M0 0h24v24H0V0z\" fill=\"none\"/>\n",
              "    <path d=\"M18.56 5.44l.94 2.06.94-2.06 2.06-.94-2.06-.94-.94-2.06-.94 2.06-2.06.94zm-11 1L8.5 8.5l.94-2.06 2.06-.94-2.06-.94L8.5 2.5l-.94 2.06-2.06.94zm10 10l.94 2.06.94-2.06 2.06-.94-2.06-.94-.94-2.06-.94 2.06-2.06.94z\"/><path d=\"M17.41 7.96l-1.37-1.37c-.4-.4-.92-.59-1.43-.59-.52 0-1.04.2-1.43.59L10.3 9.45l-7.72 7.72c-.78.78-.78 2.05 0 2.83L4 21.41c.39.39.9.59 1.41.59.51 0 1.02-.2 1.41-.59l7.78-7.78 2.81-2.81c.8-.78.8-2.07 0-2.86zM5.41 20L4 18.59l7.72-7.72 1.47 1.35L5.41 20z\"/>\n",
              "  </svg>\n",
              "      </button>\n",
              "      \n",
              "  <style>\n",
              "    .colab-df-container {\n",
              "      display:flex;\n",
              "      flex-wrap:wrap;\n",
              "      gap: 12px;\n",
              "    }\n",
              "\n",
              "    .colab-df-convert {\n",
              "      background-color: #E8F0FE;\n",
              "      border: none;\n",
              "      border-radius: 50%;\n",
              "      cursor: pointer;\n",
              "      display: none;\n",
              "      fill: #1967D2;\n",
              "      height: 32px;\n",
              "      padding: 0 0 0 0;\n",
              "      width: 32px;\n",
              "    }\n",
              "\n",
              "    .colab-df-convert:hover {\n",
              "      background-color: #E2EBFA;\n",
              "      box-shadow: 0px 1px 2px rgba(60, 64, 67, 0.3), 0px 1px 3px 1px rgba(60, 64, 67, 0.15);\n",
              "      fill: #174EA6;\n",
              "    }\n",
              "\n",
              "    [theme=dark] .colab-df-convert {\n",
              "      background-color: #3B4455;\n",
              "      fill: #D2E3FC;\n",
              "    }\n",
              "\n",
              "    [theme=dark] .colab-df-convert:hover {\n",
              "      background-color: #434B5C;\n",
              "      box-shadow: 0px 1px 3px 1px rgba(0, 0, 0, 0.15);\n",
              "      filter: drop-shadow(0px 1px 2px rgba(0, 0, 0, 0.3));\n",
              "      fill: #FFFFFF;\n",
              "    }\n",
              "  </style>\n",
              "\n",
              "      <script>\n",
              "        const buttonEl =\n",
              "          document.querySelector('#df-cd9fb4c8-8d7f-46a2-af5f-56380b51c7af button.colab-df-convert');\n",
              "        buttonEl.style.display =\n",
              "          google.colab.kernel.accessAllowed ? 'block' : 'none';\n",
              "\n",
              "        async function convertToInteractive(key) {\n",
              "          const element = document.querySelector('#df-cd9fb4c8-8d7f-46a2-af5f-56380b51c7af');\n",
              "          const dataTable =\n",
              "            await google.colab.kernel.invokeFunction('convertToInteractive',\n",
              "                                                     [key], {});\n",
              "          if (!dataTable) return;\n",
              "\n",
              "          const docLinkHtml = 'Like what you see? Visit the ' +\n",
              "            '<a target=\"_blank\" href=https://colab.research.google.com/notebooks/data_table.ipynb>data table notebook</a>'\n",
              "            + ' to learn more about interactive tables.';\n",
              "          element.innerHTML = '';\n",
              "          dataTable['output_type'] = 'display_data';\n",
              "          await google.colab.output.renderOutput(dataTable, element);\n",
              "          const docLink = document.createElement('div');\n",
              "          docLink.innerHTML = docLinkHtml;\n",
              "          element.appendChild(docLink);\n",
              "        }\n",
              "      </script>\n",
              "    </div>\n",
              "  </div>\n",
              "  "
            ]
          },
          "metadata": {},
          "execution_count": 7
        }
      ]
    },
    {
      "cell_type": "code",
      "source": [
        "# describing feature table\n",
        "final_feature_table.describe()"
      ],
      "metadata": {
        "colab": {
          "base_uri": "https://localhost:8080/",
          "height": 364
        },
        "id": "gWGclwjL77GR",
        "outputId": "5fd78cf3-0a55-4f44-bc84-4dbc68963ad5"
      },
      "execution_count": 8,
      "outputs": [
        {
          "output_type": "execute_result",
          "data": {
            "text/plain": [
              "       amplitude_envelope    rms_energy  zero_cross_rate  \\\n",
              "count        44540.000000  44540.000000     44540.000000   \n",
              "mean             0.061070      0.027366         0.019793   \n",
              "std              0.075803      0.034207         0.016078   \n",
              "min             -0.025433      0.000010         0.000000   \n",
              "25%              0.014557      0.006216         0.011111   \n",
              "50%              0.035405      0.015528         0.015972   \n",
              "75%              0.076787      0.034705         0.024306   \n",
              "max              0.787940      0.347764         0.265972   \n",
              "\n",
              "       fundamental_frequency         mfcc1         mfcc2         mfcc3  \\\n",
              "count           44540.000000  44540.000000  44540.000000  44540.000000   \n",
              "mean                0.078568   -521.003499    174.470724     54.113130   \n",
              "std                 0.157349     84.799359     42.362817     35.984805   \n",
              "min                 0.000000   -805.141692     -0.028559   -102.750671   \n",
              "25%                 0.005345   -580.597553    145.324267     30.741189   \n",
              "50%                 0.022304   -524.354851    176.166709     59.583343   \n",
              "75%                 0.071754   -460.652878    206.395808     80.997189   \n",
              "max                 1.000000   -154.780427    301.366263    142.302260   \n",
              "\n",
              "              mfcc4         mfcc5         mfcc6         mfcc7         mfcc8  \\\n",
              "count  44540.000000  44540.000000  44540.000000  44540.000000  44540.000000   \n",
              "mean      22.245005     15.839343     -0.880957    -12.691672    -12.930460   \n",
              "std       27.677644     19.707793     18.659005     16.139309     14.159333   \n",
              "min      -93.540419    -62.571806    -87.045255    -85.171649    -69.730469   \n",
              "25%        6.453923      3.527667    -11.730661    -22.425099    -21.924826   \n",
              "50%       25.665171     16.693609      0.843817    -11.470086    -12.601244   \n",
              "75%       40.869632     28.598302     11.466649     -2.196175     -3.886074   \n",
              "max      128.544296    101.602920     63.577770     48.241902     47.763101   \n",
              "\n",
              "              mfcc9        mfcc10        mfcc11        mfcc12        mfcc13  \\\n",
              "count  44540.000000  44540.000000  44540.000000  44540.000000  44540.000000   \n",
              "mean      -2.475824     -2.475824      7.376050     -4.855689    -15.921395   \n",
              "std       12.561438     12.561438     10.345917     10.484096     10.649772   \n",
              "min      -68.570256    -68.570256    -38.685697    -50.421765    -59.787976   \n",
              "25%      -10.088393    -10.088393      0.653120    -11.584057    -22.961229   \n",
              "50%       -1.880505     -1.880505      7.372769     -4.767776    -15.873157   \n",
              "75%        5.811886      5.811886     14.118740      1.892396     -8.945832   \n",
              "max       44.846295     44.846295     88.109551     65.611507     41.799182   \n",
              "\n",
              "       mean_amp_env   std_amp_env  \n",
              "count  4.454000e+04  44540.000000  \n",
              "mean  -2.772621e-07      0.027190  \n",
              "std    5.932652e-03      0.033856  \n",
              "min   -1.103737e-01      0.000010  \n",
              "25%   -3.993173e-04      0.006195  \n",
              "50%   -4.990000e-05      0.015462  \n",
              "75%    3.084552e-04      0.034528  \n",
              "max    2.027752e-01      0.347762  "
            ],
            "text/html": [
              "\n",
              "  <div id=\"df-62681d89-7eca-4e66-9644-f8371b4b0211\">\n",
              "    <div class=\"colab-df-container\">\n",
              "      <div>\n",
              "<style scoped>\n",
              "    .dataframe tbody tr th:only-of-type {\n",
              "        vertical-align: middle;\n",
              "    }\n",
              "\n",
              "    .dataframe tbody tr th {\n",
              "        vertical-align: top;\n",
              "    }\n",
              "\n",
              "    .dataframe thead th {\n",
              "        text-align: right;\n",
              "    }\n",
              "</style>\n",
              "<table border=\"1\" class=\"dataframe\">\n",
              "  <thead>\n",
              "    <tr style=\"text-align: right;\">\n",
              "      <th></th>\n",
              "      <th>amplitude_envelope</th>\n",
              "      <th>rms_energy</th>\n",
              "      <th>zero_cross_rate</th>\n",
              "      <th>fundamental_frequency</th>\n",
              "      <th>mfcc1</th>\n",
              "      <th>mfcc2</th>\n",
              "      <th>mfcc3</th>\n",
              "      <th>mfcc4</th>\n",
              "      <th>mfcc5</th>\n",
              "      <th>mfcc6</th>\n",
              "      <th>mfcc7</th>\n",
              "      <th>mfcc8</th>\n",
              "      <th>mfcc9</th>\n",
              "      <th>mfcc10</th>\n",
              "      <th>mfcc11</th>\n",
              "      <th>mfcc12</th>\n",
              "      <th>mfcc13</th>\n",
              "      <th>mean_amp_env</th>\n",
              "      <th>std_amp_env</th>\n",
              "    </tr>\n",
              "  </thead>\n",
              "  <tbody>\n",
              "    <tr>\n",
              "      <th>count</th>\n",
              "      <td>44540.000000</td>\n",
              "      <td>44540.000000</td>\n",
              "      <td>44540.000000</td>\n",
              "      <td>44540.000000</td>\n",
              "      <td>44540.000000</td>\n",
              "      <td>44540.000000</td>\n",
              "      <td>44540.000000</td>\n",
              "      <td>44540.000000</td>\n",
              "      <td>44540.000000</td>\n",
              "      <td>44540.000000</td>\n",
              "      <td>44540.000000</td>\n",
              "      <td>44540.000000</td>\n",
              "      <td>44540.000000</td>\n",
              "      <td>44540.000000</td>\n",
              "      <td>44540.000000</td>\n",
              "      <td>44540.000000</td>\n",
              "      <td>44540.000000</td>\n",
              "      <td>4.454000e+04</td>\n",
              "      <td>44540.000000</td>\n",
              "    </tr>\n",
              "    <tr>\n",
              "      <th>mean</th>\n",
              "      <td>0.061070</td>\n",
              "      <td>0.027366</td>\n",
              "      <td>0.019793</td>\n",
              "      <td>0.078568</td>\n",
              "      <td>-521.003499</td>\n",
              "      <td>174.470724</td>\n",
              "      <td>54.113130</td>\n",
              "      <td>22.245005</td>\n",
              "      <td>15.839343</td>\n",
              "      <td>-0.880957</td>\n",
              "      <td>-12.691672</td>\n",
              "      <td>-12.930460</td>\n",
              "      <td>-2.475824</td>\n",
              "      <td>-2.475824</td>\n",
              "      <td>7.376050</td>\n",
              "      <td>-4.855689</td>\n",
              "      <td>-15.921395</td>\n",
              "      <td>-2.772621e-07</td>\n",
              "      <td>0.027190</td>\n",
              "    </tr>\n",
              "    <tr>\n",
              "      <th>std</th>\n",
              "      <td>0.075803</td>\n",
              "      <td>0.034207</td>\n",
              "      <td>0.016078</td>\n",
              "      <td>0.157349</td>\n",
              "      <td>84.799359</td>\n",
              "      <td>42.362817</td>\n",
              "      <td>35.984805</td>\n",
              "      <td>27.677644</td>\n",
              "      <td>19.707793</td>\n",
              "      <td>18.659005</td>\n",
              "      <td>16.139309</td>\n",
              "      <td>14.159333</td>\n",
              "      <td>12.561438</td>\n",
              "      <td>12.561438</td>\n",
              "      <td>10.345917</td>\n",
              "      <td>10.484096</td>\n",
              "      <td>10.649772</td>\n",
              "      <td>5.932652e-03</td>\n",
              "      <td>0.033856</td>\n",
              "    </tr>\n",
              "    <tr>\n",
              "      <th>min</th>\n",
              "      <td>-0.025433</td>\n",
              "      <td>0.000010</td>\n",
              "      <td>0.000000</td>\n",
              "      <td>0.000000</td>\n",
              "      <td>-805.141692</td>\n",
              "      <td>-0.028559</td>\n",
              "      <td>-102.750671</td>\n",
              "      <td>-93.540419</td>\n",
              "      <td>-62.571806</td>\n",
              "      <td>-87.045255</td>\n",
              "      <td>-85.171649</td>\n",
              "      <td>-69.730469</td>\n",
              "      <td>-68.570256</td>\n",
              "      <td>-68.570256</td>\n",
              "      <td>-38.685697</td>\n",
              "      <td>-50.421765</td>\n",
              "      <td>-59.787976</td>\n",
              "      <td>-1.103737e-01</td>\n",
              "      <td>0.000010</td>\n",
              "    </tr>\n",
              "    <tr>\n",
              "      <th>25%</th>\n",
              "      <td>0.014557</td>\n",
              "      <td>0.006216</td>\n",
              "      <td>0.011111</td>\n",
              "      <td>0.005345</td>\n",
              "      <td>-580.597553</td>\n",
              "      <td>145.324267</td>\n",
              "      <td>30.741189</td>\n",
              "      <td>6.453923</td>\n",
              "      <td>3.527667</td>\n",
              "      <td>-11.730661</td>\n",
              "      <td>-22.425099</td>\n",
              "      <td>-21.924826</td>\n",
              "      <td>-10.088393</td>\n",
              "      <td>-10.088393</td>\n",
              "      <td>0.653120</td>\n",
              "      <td>-11.584057</td>\n",
              "      <td>-22.961229</td>\n",
              "      <td>-3.993173e-04</td>\n",
              "      <td>0.006195</td>\n",
              "    </tr>\n",
              "    <tr>\n",
              "      <th>50%</th>\n",
              "      <td>0.035405</td>\n",
              "      <td>0.015528</td>\n",
              "      <td>0.015972</td>\n",
              "      <td>0.022304</td>\n",
              "      <td>-524.354851</td>\n",
              "      <td>176.166709</td>\n",
              "      <td>59.583343</td>\n",
              "      <td>25.665171</td>\n",
              "      <td>16.693609</td>\n",
              "      <td>0.843817</td>\n",
              "      <td>-11.470086</td>\n",
              "      <td>-12.601244</td>\n",
              "      <td>-1.880505</td>\n",
              "      <td>-1.880505</td>\n",
              "      <td>7.372769</td>\n",
              "      <td>-4.767776</td>\n",
              "      <td>-15.873157</td>\n",
              "      <td>-4.990000e-05</td>\n",
              "      <td>0.015462</td>\n",
              "    </tr>\n",
              "    <tr>\n",
              "      <th>75%</th>\n",
              "      <td>0.076787</td>\n",
              "      <td>0.034705</td>\n",
              "      <td>0.024306</td>\n",
              "      <td>0.071754</td>\n",
              "      <td>-460.652878</td>\n",
              "      <td>206.395808</td>\n",
              "      <td>80.997189</td>\n",
              "      <td>40.869632</td>\n",
              "      <td>28.598302</td>\n",
              "      <td>11.466649</td>\n",
              "      <td>-2.196175</td>\n",
              "      <td>-3.886074</td>\n",
              "      <td>5.811886</td>\n",
              "      <td>5.811886</td>\n",
              "      <td>14.118740</td>\n",
              "      <td>1.892396</td>\n",
              "      <td>-8.945832</td>\n",
              "      <td>3.084552e-04</td>\n",
              "      <td>0.034528</td>\n",
              "    </tr>\n",
              "    <tr>\n",
              "      <th>max</th>\n",
              "      <td>0.787940</td>\n",
              "      <td>0.347764</td>\n",
              "      <td>0.265972</td>\n",
              "      <td>1.000000</td>\n",
              "      <td>-154.780427</td>\n",
              "      <td>301.366263</td>\n",
              "      <td>142.302260</td>\n",
              "      <td>128.544296</td>\n",
              "      <td>101.602920</td>\n",
              "      <td>63.577770</td>\n",
              "      <td>48.241902</td>\n",
              "      <td>47.763101</td>\n",
              "      <td>44.846295</td>\n",
              "      <td>44.846295</td>\n",
              "      <td>88.109551</td>\n",
              "      <td>65.611507</td>\n",
              "      <td>41.799182</td>\n",
              "      <td>2.027752e-01</td>\n",
              "      <td>0.347762</td>\n",
              "    </tr>\n",
              "  </tbody>\n",
              "</table>\n",
              "</div>\n",
              "      <button class=\"colab-df-convert\" onclick=\"convertToInteractive('df-62681d89-7eca-4e66-9644-f8371b4b0211')\"\n",
              "              title=\"Convert this dataframe to an interactive table.\"\n",
              "              style=\"display:none;\">\n",
              "        \n",
              "  <svg xmlns=\"http://www.w3.org/2000/svg\" height=\"24px\"viewBox=\"0 0 24 24\"\n",
              "       width=\"24px\">\n",
              "    <path d=\"M0 0h24v24H0V0z\" fill=\"none\"/>\n",
              "    <path d=\"M18.56 5.44l.94 2.06.94-2.06 2.06-.94-2.06-.94-.94-2.06-.94 2.06-2.06.94zm-11 1L8.5 8.5l.94-2.06 2.06-.94-2.06-.94L8.5 2.5l-.94 2.06-2.06.94zm10 10l.94 2.06.94-2.06 2.06-.94-2.06-.94-.94-2.06-.94 2.06-2.06.94z\"/><path d=\"M17.41 7.96l-1.37-1.37c-.4-.4-.92-.59-1.43-.59-.52 0-1.04.2-1.43.59L10.3 9.45l-7.72 7.72c-.78.78-.78 2.05 0 2.83L4 21.41c.39.39.9.59 1.41.59.51 0 1.02-.2 1.41-.59l7.78-7.78 2.81-2.81c.8-.78.8-2.07 0-2.86zM5.41 20L4 18.59l7.72-7.72 1.47 1.35L5.41 20z\"/>\n",
              "  </svg>\n",
              "      </button>\n",
              "      \n",
              "  <style>\n",
              "    .colab-df-container {\n",
              "      display:flex;\n",
              "      flex-wrap:wrap;\n",
              "      gap: 12px;\n",
              "    }\n",
              "\n",
              "    .colab-df-convert {\n",
              "      background-color: #E8F0FE;\n",
              "      border: none;\n",
              "      border-radius: 50%;\n",
              "      cursor: pointer;\n",
              "      display: none;\n",
              "      fill: #1967D2;\n",
              "      height: 32px;\n",
              "      padding: 0 0 0 0;\n",
              "      width: 32px;\n",
              "    }\n",
              "\n",
              "    .colab-df-convert:hover {\n",
              "      background-color: #E2EBFA;\n",
              "      box-shadow: 0px 1px 2px rgba(60, 64, 67, 0.3), 0px 1px 3px 1px rgba(60, 64, 67, 0.15);\n",
              "      fill: #174EA6;\n",
              "    }\n",
              "\n",
              "    [theme=dark] .colab-df-convert {\n",
              "      background-color: #3B4455;\n",
              "      fill: #D2E3FC;\n",
              "    }\n",
              "\n",
              "    [theme=dark] .colab-df-convert:hover {\n",
              "      background-color: #434B5C;\n",
              "      box-shadow: 0px 1px 3px 1px rgba(0, 0, 0, 0.15);\n",
              "      filter: drop-shadow(0px 1px 2px rgba(0, 0, 0, 0.3));\n",
              "      fill: #FFFFFF;\n",
              "    }\n",
              "  </style>\n",
              "\n",
              "      <script>\n",
              "        const buttonEl =\n",
              "          document.querySelector('#df-62681d89-7eca-4e66-9644-f8371b4b0211 button.colab-df-convert');\n",
              "        buttonEl.style.display =\n",
              "          google.colab.kernel.accessAllowed ? 'block' : 'none';\n",
              "\n",
              "        async function convertToInteractive(key) {\n",
              "          const element = document.querySelector('#df-62681d89-7eca-4e66-9644-f8371b4b0211');\n",
              "          const dataTable =\n",
              "            await google.colab.kernel.invokeFunction('convertToInteractive',\n",
              "                                                     [key], {});\n",
              "          if (!dataTable) return;\n",
              "\n",
              "          const docLinkHtml = 'Like what you see? Visit the ' +\n",
              "            '<a target=\"_blank\" href=https://colab.research.google.com/notebooks/data_table.ipynb>data table notebook</a>'\n",
              "            + ' to learn more about interactive tables.';\n",
              "          element.innerHTML = '';\n",
              "          dataTable['output_type'] = 'display_data';\n",
              "          await google.colab.output.renderOutput(dataTable, element);\n",
              "          const docLink = document.createElement('div');\n",
              "          docLink.innerHTML = docLinkHtml;\n",
              "          element.appendChild(docLink);\n",
              "        }\n",
              "      </script>\n",
              "    </div>\n",
              "  </div>\n",
              "  "
            ]
          },
          "metadata": {},
          "execution_count": 8
        }
      ]
    },
    {
      "cell_type": "code",
      "source": [
        "# importing standard scaler\n",
        "from sklearn.preprocessing import StandardScaler\n",
        "scaler = StandardScaler()"
      ],
      "metadata": {
        "id": "zjz7wxg48UhS"
      },
      "execution_count": 9,
      "outputs": []
    },
    {
      "cell_type": "code",
      "source": [
        "# seperating features and targets from pandas dataframe\n",
        "X = (final_feature_table.drop(columns = ['emotion']))\n",
        "X = X[:].values\n",
        "y = np.array(final_feature_table.loc[:, \"emotion\"])"
      ],
      "metadata": {
        "id": "wPtydwsBRDsL"
      },
      "execution_count": 10,
      "outputs": []
    },
    {
      "cell_type": "code",
      "source": [
        "# fitting data to scaler\n",
        "scaler.fit(X)"
      ],
      "metadata": {
        "colab": {
          "base_uri": "https://localhost:8080/"
        },
        "id": "rUAKNwYLYKsM",
        "outputId": "0142b3a9-e3ab-4c4e-b335-c9755ef08045"
      },
      "execution_count": 11,
      "outputs": [
        {
          "output_type": "execute_result",
          "data": {
            "text/plain": [
              "StandardScaler()"
            ]
          },
          "metadata": {},
          "execution_count": 11
        }
      ]
    },
    {
      "cell_type": "code",
      "source": [
        "# transforming data\n",
        "X_train = scaler.transform(X)"
      ],
      "metadata": {
        "id": "6LViXwUlaKLq"
      },
      "execution_count": 12,
      "outputs": []
    },
    {
      "cell_type": "code",
      "source": [
        "print (f\"Shape of X_train is : {X.shape}\")\n",
        "print (f\"Shape of y_train is : {y.shape}\")"
      ],
      "metadata": {
        "colab": {
          "base_uri": "https://localhost:8080/"
        },
        "id": "4lBNQWg-aWGE",
        "outputId": "a54df505-d8f3-4a42-d562-1fac59506acc"
      },
      "execution_count": 13,
      "outputs": [
        {
          "output_type": "stream",
          "name": "stdout",
          "text": [
            "Shape of X_train is : (44540, 19)\n",
            "Shape of y_train is : (44540,)\n"
          ]
        }
      ]
    },
    {
      "cell_type": "code",
      "source": [
        "# finding categories in target set\n",
        "class_labels = np.unique(y)\n",
        "print (class_labels)"
      ],
      "metadata": {
        "colab": {
          "base_uri": "https://localhost:8080/"
        },
        "id": "FAdbeeY1aX03",
        "outputId": "8705623f-2190-443a-c71f-8a80bc4859ce"
      },
      "execution_count": 14,
      "outputs": [
        {
          "output_type": "stream",
          "name": "stdout",
          "text": [
            "['anger' 'fear' 'happy' 'neutral' 'sad' 'surprise']\n"
          ]
        }
      ]
    },
    {
      "cell_type": "code",
      "source": [
        "# train, teast and split data\n",
        "from sklearn.model_selection import train_test_split\n",
        "# i.e. 70 % training dataset and 30 % test datasets\n",
        "X_train, X_test, y_train, y_test = train_test_split(X, y, test_size = 0.30)"
      ],
      "metadata": {
        "id": "2-FjuArOcHIy"
      },
      "execution_count": 15,
      "outputs": []
    },
    {
      "cell_type": "code",
      "source": [
        "# getting shapes of traing and testing sets\n",
        "print(f\"Shape of X_train is : {X_train.shape}\")\n",
        "print(f\"Shape of y_train is : {y_train.shape}\")\n",
        "print(f\"Shape of X_test is : {X_test.shape}\")\n",
        "print(f\"Shape of y_test is : {y_test.shape}\")"
      ],
      "metadata": {
        "colab": {
          "base_uri": "https://localhost:8080/"
        },
        "id": "94HgLKDMcsWl",
        "outputId": "838cb72d-dad9-4077-bd56-1f4ff3900b13"
      },
      "execution_count": 16,
      "outputs": [
        {
          "output_type": "stream",
          "name": "stdout",
          "text": [
            "Shape of X_train is : (31178, 19)\n",
            "Shape of y_train is : (31178,)\n",
            "Shape of X_test is : (13362, 19)\n",
            "Shape of y_test is : (13362,)\n"
          ]
        }
      ]
    },
    {
      "cell_type": "markdown",
      "source": [
        "## Random Forest Classifier"
      ],
      "metadata": {
        "id": "4Uhae_Ba6XJ3"
      }
    },
    {
      "cell_type": "code",
      "source": [
        "# using Random Forest Classifier to Classify emotions\n",
        "from sklearn.ensemble import RandomForestClassifier\n",
        "classifier1 = RandomForestClassifier(max_depth = 60, n_estimators = 500)\n",
        "classifier1.fit(X_train, y_train)"
      ],
      "metadata": {
        "colab": {
          "base_uri": "https://localhost:8080/"
        },
        "id": "9x9VEIrXaxZT",
        "outputId": "d4c3e005-b474-4d34-fbe0-4ebd1bc252d6"
      },
      "execution_count": 17,
      "outputs": [
        {
          "output_type": "execute_result",
          "data": {
            "text/plain": [
              "RandomForestClassifier(max_depth=60, n_estimators=500)"
            ]
          },
          "metadata": {},
          "execution_count": 17
        }
      ]
    },
    {
      "cell_type": "code",
      "source": [
        "# performing predictions on the test dataset\n",
        "y_pred_rf = classifier1.predict(X_test)\n",
        "  \n",
        "# metrics are used to find accuracy or error\n",
        "from sklearn import metrics  \n",
        "  \n",
        "# using metrics module for accuracy calculation\n",
        "print(\"ACCURACY OF THE MODEL: \", metrics.accuracy_score(y_test, y_pred_rf))"
      ],
      "metadata": {
        "colab": {
          "base_uri": "https://localhost:8080/"
        },
        "id": "VESlWgx8lSsC",
        "outputId": "566f58d9-693d-4815-9e36-f39afa3b7524"
      },
      "execution_count": 18,
      "outputs": [
        {
          "output_type": "stream",
          "name": "stdout",
          "text": [
            "ACCURACY OF THE MODEL:  0.8164196976500524\n"
          ]
        }
      ]
    },
    {
      "cell_type": "code",
      "source": [
        "from sklearn.metrics import classification_report, confusion_matrix\n",
        "\n",
        "#Confution Matrix and Classification Report\n",
        "y_pred = classifier1.predict(X_test)\n",
        "\n",
        "print('Confusion Matrix')\n",
        "print(confusion_matrix(y_test, y_pred))"
      ],
      "metadata": {
        "colab": {
          "base_uri": "https://localhost:8080/"
        },
        "id": "gASwr38HdxAq",
        "outputId": "a1f0fcb3-db6c-4887-93b4-a6f58578b52b"
      },
      "execution_count": 19,
      "outputs": [
        {
          "output_type": "stream",
          "name": "stdout",
          "text": [
            "Confusion Matrix\n",
            "[[3649   18  136  121  215    7]\n",
            " [  58  914   18   17    9    7]\n",
            " [ 395    3 1728   96  136    6]\n",
            " [ 143    4   86 1898  114    1]\n",
            " [ 295    2  126  126 2095    1]\n",
            " [ 156   10   62   14   71  625]]\n",
            "Classification Report\n",
            "              precision    recall  f1-score   support\n",
            "\n",
            "       anger       0.78      0.88      0.83      4146\n",
            "        fear       0.96      0.89      0.93      1023\n",
            "       happy       0.80      0.73      0.76      2364\n",
            "     neutral       0.84      0.85      0.84      2246\n",
            "         sad       0.79      0.79      0.79      2645\n",
            "    surprise       0.97      0.67      0.79       938\n",
            "\n",
            "    accuracy                           0.82     13362\n",
            "   macro avg       0.86      0.80      0.82     13362\n",
            "weighted avg       0.82      0.82      0.82     13362\n",
            "\n"
          ]
        }
      ]
    },
    {
      "cell_type": "code",
      "source": [
        "# visualizing confusion matrix\n",
        "from sklearn.metrics import ConfusionMatrixDisplay\n",
        "import matplotlib.pyplot as plt\n",
        "from matplotlib.pyplot import figure\n",
        "import numpy as np\n",
        "\n",
        "# calculating confusion matrix\n",
        "conf_mat = confusion_matrix(y_test, y_pred)\n",
        "\n",
        "target_names = class_labels\n",
        "plt.figure(figsize=(100,100))\n",
        "disp = ConfusionMatrixDisplay(confusion_matrix = conf_mat, display_labels = target_names)\n",
        "disp.plot(cmap=plt.cm.Blues)\n",
        "plt.title(\"Confusion Matrix with Random Forest Classifier\")\n",
        "plt.show()"
      ],
      "metadata": {
        "colab": {
          "base_uri": "https://localhost:8080/",
          "height": 312
        },
        "id": "8vP4R8Iaelmw",
        "outputId": "4a8a1936-deaa-4145-dbad-ee542f5f1303"
      },
      "execution_count": 20,
      "outputs": [
        {
          "output_type": "display_data",
          "data": {
            "text/plain": [
              "<Figure size 7200x7200 with 0 Axes>"
            ]
          },
          "metadata": {}
        },
        {
          "output_type": "display_data",
          "data": {
            "text/plain": [
              "<Figure size 432x288 with 2 Axes>"
            ],
            "image/png": "[encoded data removed]"
          },
          "metadata": {
            "needs_background": "light"
          }
        }
      ]
    },
    {
      "cell_type": "code",
      "source": [
        "# getting cormalized confusion matrix\n",
        "conf_mat = confusion_matrix(y_test, y_pred)\n",
        "conf_mat = conf_mat.astype('float') / conf_mat.sum(axis=1)[:, np.newaxis]\n",
        "\n",
        "target_names = class_labels\n",
        "plt.figure(figsize=(100,100))\n",
        "disp = ConfusionMatrixDisplay(confusion_matrix = conf_mat, display_labels = target_names)\n",
        "disp.plot(cmap=plt.cm.Blues)\n",
        "plt.title(\"Normalized Confusion Matrix with the Random Forest Classifier\")\n",
        "plt.show()"
      ],
      "metadata": {
        "colab": {
          "base_uri": "https://localhost:8080/",
          "height": 312
        },
        "id": "immJhD59Gej5",
        "outputId": "1cd083f6-9fca-473e-dcfb-9b0c15abe35a"
      },
      "execution_count": 21,
      "outputs": [
        {
          "output_type": "display_data",
          "data": {
            "text/plain": [
              "<Figure size 7200x7200 with 0 Axes>"
            ]
          },
          "metadata": {}
        },
        {
          "output_type": "display_data",
          "data": {
            "text/plain": [
              "<Figure size 432x288 with 2 Axes>"
            ],
            "image/png": "[encoded data removed]"
          },
          "metadata": {
            "needs_background": "light"
          }
        }
      ]
    },
    {
      "cell_type": "code",
      "source": [
        "# calculating cohen's kappa value\n",
        "from sklearn.metrics import cohen_kappa_score\n",
        "score_RF = cohen_kappa_score(y_pred, y_test, labels = class_labels)\n",
        "print(f\"Cohen Kappa Score for Random Forest Classifer is : {score_RF}\")"
      ],
      "metadata": {
        "id": "-GaQX2DKIS4b",
        "colab": {
          "base_uri": "https://localhost:8080/"
        },
        "outputId": "51f2be0c-3a51-4c3c-f8ce-7283d2e872a1"
      },
      "execution_count": 24,
      "outputs": [
        {
          "output_type": "stream",
          "name": "stdout",
          "text": [
            "Cohen Kappa Score for Random Forest Classifer is : 0.766397890494437\n"
          ]
        }
      ]
    },
    {
      "cell_type": "code",
      "source": [
        "# classification report ====> Looking for F1 score - Looking at Imbalanced Dataset\n",
        "from sklearn.metrics import classification_report\n",
        "\n",
        "print('Classification Report for Random Forest Classifier')\n",
        "target_names = class_labels\n",
        "print(classification_report(y_test, y_pred, target_names=target_names))"
      ],
      "metadata": {
        "colab": {
          "base_uri": "https://localhost:8080/"
        },
        "id": "zWI972dW4Wm_",
        "outputId": "d12c786e-fbee-4a3f-c40f-95bad532dc8b"
      },
      "execution_count": 43,
      "outputs": [
        {
          "output_type": "stream",
          "name": "stdout",
          "text": [
            "Classification Report for Random Forest Classifier\n",
            "              precision    recall  f1-score   support\n",
            "\n",
            "       anger       0.78      0.88      0.83      4146\n",
            "        fear       0.96      0.89      0.93      1023\n",
            "       happy       0.80      0.73      0.76      2364\n",
            "     neutral       0.84      0.85      0.84      2246\n",
            "         sad       0.79      0.79      0.79      2645\n",
            "    surprise       0.97      0.67      0.79       938\n",
            "\n",
            "    accuracy                           0.82     13362\n",
            "   macro avg       0.86      0.80      0.82     13362\n",
            "weighted avg       0.82      0.82      0.82     13362\n",
            "\n"
          ]
        }
      ]
    },
    {
      "cell_type": "markdown",
      "source": [
        "## K - Nearest Neighbour Classifier"
      ],
      "metadata": {
        "id": "rO3_leEM6buq"
      }
    },
    {
      "cell_type": "code",
      "source": [
        "# implementing knn calssifier algorithm\n",
        "from sklearn.neighbors import KNeighborsClassifier\n",
        "classifier3 = KNeighborsClassifier(n_neighbors = 4, weights = 'distance', metric = 'minkowski' )"
      ],
      "metadata": {
        "id": "V51gDvBiepy3"
      },
      "execution_count": 25,
      "outputs": []
    },
    {
      "cell_type": "code",
      "source": [
        "classifier3.fit(X_train, y_train)"
      ],
      "metadata": {
        "colab": {
          "base_uri": "https://localhost:8080/"
        },
        "id": "0uERyRldfIh2",
        "outputId": "e7f45952-9b98-4f6b-ac40-931971b590a2"
      },
      "execution_count": 26,
      "outputs": [
        {
          "output_type": "execute_result",
          "data": {
            "text/plain": [
              "KNeighborsClassifier(n_neighbors=4, weights='distance')"
            ]
          },
          "metadata": {},
          "execution_count": 26
        }
      ]
    },
    {
      "cell_type": "code",
      "source": [
        "# performing predictions on the test dataset\n",
        "y_pred_knn = classifier3.predict(X_test)\n",
        "  \n",
        "# metrics are used to find accuracy or error\n",
        "from sklearn import metrics  \n",
        "  \n",
        "# using metrics module for accuracy calculation\n",
        "print(\"ACCURACY OF THE MODEL: \", metrics.accuracy_score(y_test, y_pred_knn))"
      ],
      "metadata": {
        "colab": {
          "base_uri": "https://localhost:8080/"
        },
        "id": "QbsIyhdxf4ZS",
        "outputId": "1f246060-bb0b-427d-a34c-530f1ddd1514"
      },
      "execution_count": 27,
      "outputs": [
        {
          "output_type": "stream",
          "name": "stdout",
          "text": [
            "ACCURACY OF THE MODEL:  0.8480766352342464\n"
          ]
        }
      ]
    },
    {
      "cell_type": "code",
      "source": [
        "'''\n",
        "from sklearn.model_selection import GridSearchCV\n",
        "\n",
        "grid_params = { 'n_neighbors' : [3,4,5,7,8,9,11,13,15],\n",
        "               'weights' : ['uniform','distance'],\n",
        "               'metric' : ['minkowski','euclidean','manhattan']}\n",
        "\n",
        "gs = GridSearchCV(KNeighborsClassifier(), grid_params, verbose = 1, cv=3, n_jobs = -1)\n",
        "\n",
        "# fit the model on our train set\n",
        "g_res = gs.fit(X_train, y_train)\n",
        "'''"
      ],
      "metadata": {
        "colab": {
          "base_uri": "https://localhost:8080/",
          "height": 70
        },
        "id": "6CAoQF4mFdHD",
        "outputId": "362fb387-0ff1-42da-f4f5-e9bdf0b030fb"
      },
      "execution_count": 26,
      "outputs": [
        {
          "output_type": "execute_result",
          "data": {
            "text/plain": [
              "\"\\nfrom sklearn.model_selection import GridSearchCV\\n\\ngrid_params = { 'n_neighbors' : [3,4,5,7,8,9,11,13,15],\\n               'weights' : ['uniform','distance'],\\n               'metric' : ['minkowski','euclidean','manhattan']}\\n\\ngs = GridSearchCV(KNeighborsClassifier(), grid_params, verbose = 1, cv=3, n_jobs = -1)\\n\\n# fit the model on our train set\\ng_res = gs.fit(X_train, y_train)\\n\""
            ],
            "application/vnd.google.colaboratory.intrinsic+json": {
              "type": "string"
            }
          },
          "metadata": {},
          "execution_count": 26
        }
      ]
    },
    {
      "cell_type": "code",
      "source": [
        "# find the best score\n",
        "#g_res.best_score_"
      ],
      "metadata": {
        "id": "VZM-q_XUFu6N"
      },
      "execution_count": 28,
      "outputs": []
    },
    {
      "cell_type": "code",
      "source": [
        "# get the hyperparameters with the best score\n",
        "#g_res.best_params_"
      ],
      "metadata": {
        "id": "h9C35J6ZFvwL"
      },
      "execution_count": 28,
      "outputs": []
    },
    {
      "cell_type": "code",
      "source": [
        "# visualizing confusion matrix\n",
        "from sklearn.metrics import ConfusionMatrixDisplay\n",
        "import matplotlib.pyplot as plt\n",
        "from matplotlib.pyplot import figure\n",
        "import numpy as np\n",
        "\n",
        "# calculating confusion matrix\n",
        "conf_mat = confusion_matrix(y_test, y_pred_knn)\n",
        "\n",
        "target_names = class_labels\n",
        "plt.figure(figsize=(100,100))\n",
        "disp = ConfusionMatrixDisplay(confusion_matrix = conf_mat, display_labels = target_names)\n",
        "disp.plot(cmap=plt.cm.Blues)\n",
        "plt.title(\"Confusion Matrix with K-Nearest Neighbors Classifier\")\n",
        "plt.show()"
      ],
      "metadata": {
        "colab": {
          "base_uri": "https://localhost:8080/",
          "height": 312
        },
        "id": "RfJMiSwqgOQf",
        "outputId": "d4577444-0c03-4a1f-dd12-9460a188a85c"
      },
      "execution_count": 29,
      "outputs": [
        {
          "output_type": "display_data",
          "data": {
            "text/plain": [
              "<Figure size 7200x7200 with 0 Axes>"
            ]
          },
          "metadata": {}
        },
        {
          "output_type": "display_data",
          "data": {
            "text/plain": [
              "<Figure size 432x288 with 2 Axes>"
            ],
            "image/png": "[encoded data removed]"
          },
          "metadata": {
            "needs_background": "light"
          }
        }
      ]
    },
    {
      "cell_type": "code",
      "source": [
        "# getting cormalized confusion matrix\n",
        "conf_mat = confusion_matrix(y_test, y_pred_knn)\n",
        "conf_mat = conf_mat.astype('float') / conf_mat.sum(axis=1)[:, np.newaxis]\n",
        "\n",
        "target_names = class_labels\n",
        "plt.figure(figsize=(100,100))\n",
        "disp = ConfusionMatrixDisplay(confusion_matrix = conf_mat, display_labels = target_names)\n",
        "disp.plot(cmap=plt.cm.Blues)\n",
        "plt.title(\"Normalized Confusion Matrix with the K-Nearest Neighbors Classifier\")\n",
        "plt.show()"
      ],
      "metadata": {
        "colab": {
          "base_uri": "https://localhost:8080/",
          "height": 312
        },
        "id": "UgmDzwgDgiek",
        "outputId": "2ded6073-cf72-420e-9a8c-0c28223f899d"
      },
      "execution_count": 30,
      "outputs": [
        {
          "output_type": "display_data",
          "data": {
            "text/plain": [
              "<Figure size 7200x7200 with 0 Axes>"
            ]
          },
          "metadata": {}
        },
        {
          "output_type": "display_data",
          "data": {
            "text/plain": [
              "<Figure size 432x288 with 2 Axes>"
            ],
            "image/png": "[encoded data removed]"
          },
          "metadata": {
            "needs_background": "light"
          }
        }
      ]
    },
    {
      "cell_type": "code",
      "source": [
        "# calculating cohen's kappa value\n",
        "from sklearn.metrics import cohen_kappa_score\n",
        "score_kNN = cohen_kappa_score(y_pred_knn, y_test, labels = class_labels)\n",
        "print(f\"Cohen Kappa Score for kNN Classifer is : {score_kNN}\")"
      ],
      "metadata": {
        "colab": {
          "base_uri": "https://localhost:8080/"
        },
        "id": "iG1P-iQv2BPK",
        "outputId": "de9c5e47-3293-4257-9025-9c4d9ac248a4"
      },
      "execution_count": 31,
      "outputs": [
        {
          "output_type": "stream",
          "name": "stdout",
          "text": [
            "Cohen Kappa Score for kNN Classifer is : 0.8088449952605999\n"
          ]
        }
      ]
    },
    {
      "cell_type": "code",
      "source": [
        "# classification report ====> Looking for F1 score - Looking at Imbalanced Dataset\n",
        "from sklearn.metrics import classification_report\n",
        "\n",
        "print('Classification Report for kNN Classifier')\n",
        "target_names = class_labels\n",
        "print(classification_report(y_test, y_pred_knn, target_names=target_names))"
      ],
      "metadata": {
        "colab": {
          "base_uri": "https://localhost:8080/"
        },
        "id": "d2Wt_NOM4DKp",
        "outputId": "25e7ff08-4c33-459f-8e9e-a34e240acd4c"
      },
      "execution_count": 42,
      "outputs": [
        {
          "output_type": "stream",
          "name": "stdout",
          "text": [
            "Classification Report for kNN Classifier\n",
            "              precision    recall  f1-score   support\n",
            "\n",
            "       anger       0.88      0.85      0.86      4146\n",
            "        fear       0.94      0.95      0.94      1023\n",
            "       happy       0.79      0.84      0.81      2364\n",
            "     neutral       0.82      0.86      0.84      2246\n",
            "         sad       0.84      0.83      0.84      2645\n",
            "    surprise       0.90      0.78      0.84       938\n",
            "\n",
            "    accuracy                           0.85     13362\n",
            "   macro avg       0.86      0.85      0.85     13362\n",
            "weighted avg       0.85      0.85      0.85     13362\n",
            "\n"
          ]
        }
      ]
    },
    {
      "cell_type": "markdown",
      "source": [
        "## Voting Classifier"
      ],
      "metadata": {
        "id": "fV5E918A_bKx"
      }
    },
    {
      "cell_type": "code",
      "source": [
        "# building a voting classifier\n",
        "from sklearn.ensemble import VotingClassifier\n",
        "classifier5 = VotingClassifier(\n",
        "    estimators = [('RandomForest', classifier1), ('K-NN', classifier3)],\n",
        "    voting = 'soft'\n",
        ")"
      ],
      "metadata": {
        "id": "PqyB6M_Q5Lfg"
      },
      "execution_count": 32,
      "outputs": []
    },
    {
      "cell_type": "code",
      "source": [
        "# fitting data to voting classifer\n",
        "classifier5.fit(X_train, y_train)"
      ],
      "metadata": {
        "colab": {
          "base_uri": "https://localhost:8080/"
        },
        "id": "dFyKAeRU79c8",
        "outputId": "cdf669a7-6cc9-416c-fc8a-4aa03fb98e4c"
      },
      "execution_count": 33,
      "outputs": [
        {
          "output_type": "execute_result",
          "data": {
            "text/plain": [
              "VotingClassifier(estimators=[('RandomForest',\n",
              "                              RandomForestClassifier(max_depth=60,\n",
              "                                                     n_estimators=500)),\n",
              "                             ('K-NN',\n",
              "                              KNeighborsClassifier(n_neighbors=4,\n",
              "                                                   weights='distance'))],\n",
              "                 voting='soft')"
            ]
          },
          "metadata": {},
          "execution_count": 33
        }
      ]
    },
    {
      "cell_type": "code",
      "source": [
        "# performing predictions on the test dataset\n",
        "y_pred_voting = classifier5.predict(X_test)\n",
        "  \n",
        "# metrics are used to find accuracy or error\n",
        "from sklearn import metrics  \n",
        "  \n",
        "# using metrics module for accuracy calculation\n",
        "print(\"ACCURACY OF THE MODEL: \", metrics.accuracy_score(y_test, y_pred_voting))# performing predictions on the test dataset\n",
        "y_pred_voting = classifier5.predict(X_test)"
      ],
      "metadata": {
        "colab": {
          "base_uri": "https://localhost:8080/"
        },
        "id": "ewuOaldc8Hhv",
        "outputId": "1637446e-4c78-4144-b504-7a1a01cd369a"
      },
      "execution_count": 34,
      "outputs": [
        {
          "output_type": "stream",
          "name": "stdout",
          "text": [
            "ACCURACY OF THE MODEL:  0.8619218679838347\n"
          ]
        }
      ]
    },
    {
      "cell_type": "code",
      "source": [
        "# visualizing confusion matrix\n",
        "from sklearn.metrics import ConfusionMatrixDisplay\n",
        "import matplotlib.pyplot as plt\n",
        "from matplotlib.pyplot import figure\n",
        "import numpy as np\n",
        "\n",
        "# calculating confusion matrix\n",
        "conf_mat = confusion_matrix(y_test, y_pred_voting)\n",
        "\n",
        "target_names = class_labels\n",
        "plt.figure(figsize=(100,100))\n",
        "disp = ConfusionMatrixDisplay(confusion_matrix = conf_mat, display_labels = target_names)\n",
        "disp.plot(cmap=plt.cm.Blues)\n",
        "plt.title(\"Confusion Matrix with Voting Classifier\")\n",
        "plt.show()"
      ],
      "metadata": {
        "colab": {
          "base_uri": "https://localhost:8080/",
          "height": 312
        },
        "id": "eaw2DMiU8ZMq",
        "outputId": "4491c563-b1cd-4a50-c0ea-ea0f8d04a4e4"
      },
      "execution_count": 35,
      "outputs": [
        {
          "output_type": "display_data",
          "data": {
            "text/plain": [
              "<Figure size 7200x7200 with 0 Axes>"
            ]
          },
          "metadata": {}
        },
        {
          "output_type": "display_data",
          "data": {
            "text/plain": [
              "<Figure size 432x288 with 2 Axes>"
            ],
            "image/png": "[encoded data removed]"
          },
          "metadata": {
            "needs_background": "light"
          }
        }
      ]
    },
    {
      "cell_type": "code",
      "source": [
        "# getting cormalized confusion matrix\n",
        "conf_mat = confusion_matrix(y_test, y_pred_voting)\n",
        "conf_mat = conf_mat.astype('float') / conf_mat.sum(axis=1)[:, np.newaxis]\n",
        "\n",
        "target_names = class_labels\n",
        "plt.figure(figsize=(100,100))\n",
        "disp = ConfusionMatrixDisplay(confusion_matrix = conf_mat, display_labels = target_names)\n",
        "disp.plot(cmap=plt.cm.Blues)\n",
        "plt.title(\"Normalized Confusion Matrix with the Voting Classifier\")\n",
        "plt.show()"
      ],
      "metadata": {
        "colab": {
          "base_uri": "https://localhost:8080/",
          "height": 312
        },
        "id": "2aIWCpGO9BZJ",
        "outputId": "5bd77f6c-ad19-4856-bf19-2a34e468492e"
      },
      "execution_count": 36,
      "outputs": [
        {
          "output_type": "display_data",
          "data": {
            "text/plain": [
              "<Figure size 7200x7200 with 0 Axes>"
            ]
          },
          "metadata": {}
        },
        {
          "output_type": "display_data",
          "data": {
            "text/plain": [
              "<Figure size 432x288 with 2 Axes>"
            ],
            "image/png": "[encoded data removed]"
          },
          "metadata": {
            "needs_background": "light"
          }
        }
      ]
    },
    {
      "cell_type": "code",
      "source": [
        "# calculating cohen's kappa value\n",
        "from sklearn.metrics import cohen_kappa_score\n",
        "score_Voting = cohen_kappa_score(y_pred_voting, y_test, labels = class_labels)\n",
        "print(f\"Cohen Kappa Score for Voting Classifer is : {score_Voting}\")"
      ],
      "metadata": {
        "colab": {
          "base_uri": "https://localhost:8080/"
        },
        "id": "INHzkJ0T2Ty5",
        "outputId": "62e8d0ec-bfeb-4dc5-e210-54c4edb48f94"
      },
      "execution_count": 45,
      "outputs": [
        {
          "output_type": "stream",
          "name": "stdout",
          "text": [
            "Cohen Kappa Score for Voting Classifer is : 0.8257523055674582\n"
          ]
        }
      ]
    },
    {
      "cell_type": "code",
      "source": [
        "# classification report ====> Looking for F1 score - Looking at Imbalanced Dataset\n",
        "from sklearn.metrics import classification_report\n",
        "\n",
        "print('Classification Report for Voting Classifier')\n",
        "target_names = class_labels\n",
        "print(classification_report(y_test, y_pred_voting, target_names=target_names))"
      ],
      "metadata": {
        "colab": {
          "base_uri": "https://localhost:8080/"
        },
        "id": "cNxWBTvU3p3c",
        "outputId": "dddf5c94-1dae-4e82-98c1-b3281f0c68a3"
      },
      "execution_count": 40,
      "outputs": [
        {
          "output_type": "stream",
          "name": "stdout",
          "text": [
            "Classification Report for Voting Classifier\n",
            "              precision    recall  f1-score   support\n",
            "\n",
            "       anger       0.87      0.88      0.87      4146\n",
            "        fear       0.96      0.95      0.95      1023\n",
            "       happy       0.81      0.83      0.82      2364\n",
            "     neutral       0.84      0.89      0.86      2246\n",
            "         sad       0.86      0.84      0.85      2645\n",
            "    surprise       0.95      0.77      0.85       938\n",
            "\n",
            "    accuracy                           0.86     13362\n",
            "   macro avg       0.88      0.86      0.87     13362\n",
            "weighted avg       0.86      0.86      0.86     13362\n",
            "\n"
          ]
        }
      ]
    },
    {
      "cell_type": "code",
      "source": [
        "# calculating f1 score of the voting classifier\n",
        "# F1 score is a good metric to evaluate when there are class imbalances in the data set\n",
        "from sklearn.metrics import f1_score\n",
        "f1_score_voting = f1_score(y_test, y_pred_voting, labels = class_labels, average = 'weighted')\n",
        "print (f\"The F1 Score of the Voting Classifier is : {f1_score_voting}\")"
      ],
      "metadata": {
        "colab": {
          "base_uri": "https://localhost:8080/"
        },
        "id": "iBoNhEGZNUMI",
        "outputId": "1ff43ccc-b03a-4a8d-f903-7766e2a7ae7e"
      },
      "execution_count": 53,
      "outputs": [
        {
          "output_type": "stream",
          "name": "stdout",
          "text": [
            "The F1 Score of the Voting Classifier is : 0.8619812893846641\n"
          ]
        }
      ]
    },
    {
      "cell_type": "code",
      "source": [
        "# predict probability of emotion class using the voting classifer\n",
        "example_num = 13361\n",
        "example1 = X_test[example_num].reshape(1,-1)\n",
        "pred_prob = classifier5.predict_proba(example1)\n",
        "index1 = np.argmax(pred_prob)\n",
        "print (f\"Example of feautres : {example1}\")\n",
        "print (f\"The predicted probabiities for emotion classes are : {pred_prob}\")\n",
        "print (f\"The actual class of the example is : {y_test[example_num]}\")\n",
        "print (f\"The predicted class of this example is : {class_labels[index1]}\")\n",
        "print (f\"The available emotion classes are : {class_labels}\")"
      ],
      "metadata": {
        "colab": {
          "base_uri": "https://localhost:8080/"
        },
        "id": "P8I3q3ookEQP",
        "outputId": "fd2649ef-6ea8-4352-9b07-64e980f9b164"
      },
      "execution_count": 38,
      "outputs": [
        {
          "output_type": "stream",
          "name": "stdout",
          "text": [
            "Example of feautres : [[ 3.43586310e-02  2.03003990e-02  2.15277780e-02  2.93077870e-02\n",
            "  -5.76454438e+02  2.02560767e+02  6.14854572e+01  1.53276329e+01\n",
            "   7.25429501e+00 -1.03792184e+01 -2.08306868e+01 -1.50704076e+01\n",
            "   2.15534349e+00  2.15534349e+00 -1.82445366e+01 -1.35209504e+01\n",
            "  -9.61710705e+00  7.88873000e-04  1.95371000e-02]]\n",
            "The predicted probabiities for emotion classes are : [[0.69005945 0.004      0.094      0.019      0.17794055 0.015     ]]\n",
            "The actual class of the example is : anger\n",
            "The predicted class of this example is : anger\n",
            "The available emotion classes are : ['anger' 'fear' 'happy' 'neutral' 'sad' 'surprise']\n"
          ]
        }
      ]
    },
    {
      "cell_type": "code",
      "source": [
        "import pickle\n",
        "# saving trained RFModel\n",
        "pickle.dump(classifier1, open(\"/content/drive/MyDrive/emotions5/audio_features/RandomForestModel#02.sav\", 'wb'))\n",
        "\n",
        "#saving trained kNN Model\n",
        "pickle.dump(classifier3, open(\"/content/drive/MyDrive/emotions5/audio_features/KNNModel#02.sav\", 'wb'))\n",
        "\n",
        "# saving voting classifier\n",
        "pickle.dump(classifier5, open(\"/content/drive/MyDrive/emotions5/audio_features/VotingClassifierModel#02.sav\", 'wb'))"
      ],
      "metadata": {
        "id": "3h5SoMppmtlB"
      },
      "execution_count": 44,
      "outputs": []
    }
  ]
}